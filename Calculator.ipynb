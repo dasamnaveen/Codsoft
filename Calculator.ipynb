{
  "nbformat": 4,
  "nbformat_minor": 0,
  "metadata": {
    "colab": {
      "provenance": [],
      "authorship_tag": "ABX9TyPOhrK2OG5fcnPTM6RjOG0y",
      "include_colab_link": true
    },
    "kernelspec": {
      "name": "python3",
      "display_name": "Python 3"
    },
    "language_info": {
      "name": "python"
    }
  },
  "cells": [
    {
      "cell_type": "markdown",
      "metadata": {
        "id": "view-in-github",
        "colab_type": "text"
      },
      "source": [
        "<a href=\"https://colab.research.google.com/github/dasamnaveen/Codsoft/blob/main/Calculator.ipynb\" target=\"_parent\"><img src=\"https://colab.research.google.com/assets/colab-badge.svg\" alt=\"Open In Colab\"/></a>"
      ]
    },
    {
      "cell_type": "markdown",
      "source": [
        "# Simple Calculator Program in Python"
      ],
      "metadata": {
        "id": "tP3AAT78h1vK"
      }
    },
    {
      "cell_type": "code",
      "execution_count": 1,
      "metadata": {
        "id": "1gF6FROChDDR"
      },
      "outputs": [],
      "source": [
        "def add(x, y):\n",
        "    return x + y"
      ]
    },
    {
      "cell_type": "code",
      "source": [
        "def subtract(x, y):\n",
        "    return x - y"
      ],
      "metadata": {
        "id": "VZCGD3lKhsDE"
      },
      "execution_count": 2,
      "outputs": []
    },
    {
      "cell_type": "code",
      "source": [
        "def multiply(x, y):\n",
        "    return x * y"
      ],
      "metadata": {
        "id": "F80OGwOphnqd"
      },
      "execution_count": 3,
      "outputs": []
    },
    {
      "cell_type": "code",
      "source": [
        "def divide(x, y):\n",
        "    if y == 0:\n",
        "        return \"Error: Division by zero!\"\n",
        "    return x / y"
      ],
      "metadata": {
        "id": "KVATOm7yhmf-"
      },
      "execution_count": 4,
      "outputs": []
    },
    {
      "cell_type": "code",
      "source": [
        "print(\"Simple Calculator\")\n",
        "num1 = float(input(\"Enter first number: \"))\n",
        "num2 = float(input(\"Enter second number: \"))\n",
        "\n",
        "print(\"Select operation:\")\n",
        "print(\"1. Add\")\n",
        "print(\"2. Subtract\")\n",
        "print(\"3. Multiply\")\n",
        "print(\"4. Divide\")\n",
        "\n",
        "choice = input(\"Enter operation choice (1/2/3/4): \")\n",
        "\n",
        "if choice in ['1', '2', '3', '4']:\n",
        "    if choice == '1':\n",
        "        result = add(num1, num2)\n",
        "        operator = '+'\n",
        "    elif choice == '2':\n",
        "        result = subtract(num1, num2)\n",
        "        operator = '-'\n",
        "    elif choice == '3':\n",
        "        result = multiply(num1, num2)\n",
        "        operator = '*'\n",
        "    else:\n",
        "        result = divide(num1, num2)\n",
        "        operator = '/'\n",
        "\n",
        "    print(f\"{num1} {operator} {num2} = {result}\")\n",
        "else:\n",
        "    print(\"Invalid operation choice. Please try again.\")"
      ],
      "metadata": {
        "colab": {
          "base_uri": "https://localhost:8080/"
        },
        "id": "ezfEs0-zhcUo",
        "outputId": "6e36c794-bbab-4d30-c2f6-c27400fdc935"
      },
      "execution_count": 6,
      "outputs": [
        {
          "output_type": "stream",
          "name": "stdout",
          "text": [
            "Simple Calculator\n",
            "Enter first number: 54\n",
            "Enter second number: 665\n",
            "Select operation:\n",
            "1. Add\n",
            "2. Subtract\n",
            "3. Multiply\n",
            "4. Divide\n",
            "Enter operation choice (1/2/3/4): 3\n",
            "54.0 * 665.0 = 35910.0\n"
          ]
        }
      ]
    }
  ]
}