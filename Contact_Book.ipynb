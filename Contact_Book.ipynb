{
  "nbformat": 4,
  "nbformat_minor": 0,
  "metadata": {
    "colab": {
      "provenance": [],
      "authorship_tag": "ABX9TyMaoPJNh8z8n0+2coSWnJU+",
      "include_colab_link": true
    },
    "kernelspec": {
      "name": "python3",
      "display_name": "Python 3"
    },
    "language_info": {
      "name": "python"
    }
  },
  "cells": [
    {
      "cell_type": "markdown",
      "metadata": {
        "id": "view-in-github",
        "colab_type": "text"
      },
      "source": [
        "<a href=\"https://colab.research.google.com/github/dasamnaveen/Codsoft/blob/main/Contact_Book.ipynb\" target=\"_parent\"><img src=\"https://colab.research.google.com/assets/colab-badge.svg\" alt=\"Open In Colab\"/></a>"
      ]
    },
    {
      "cell_type": "code",
      "execution_count": 2,
      "metadata": {
        "id": "hSKhZX00ivad"
      },
      "outputs": [],
      "source": [
        "contacts = []"
      ]
    },
    {
      "cell_type": "code",
      "source": [
        "def add_contact():\n",
        "    name = input(\"Enter name: \")\n",
        "    phone = input(\"Enter phone number: \")\n",
        "    email = input(\"Enter email: \")\n",
        "    address = input(\"Enter address: \")\n",
        "    contact = {\"Name\": name, \"Phone\": phone, \"Email\": email, \"Address\": address}\n",
        "    contacts.append(contact)\n",
        "    print(\"Contact added successfully!\")"
      ],
      "metadata": {
        "id": "qnqrJ1H8jV4E"
      },
      "execution_count": 3,
      "outputs": []
    },
    {
      "cell_type": "code",
      "source": [
        "def view_contacts():\n",
        "    if not contacts:\n",
        "        print(\"No contacts found.\")\n",
        "    else:\n",
        "        print(\"Contact List:\")\n",
        "        for index, contact in enumerate(contacts, start=1):\n",
        "            print(f\"{index}. Name: {contact['Name']} | Phone: {contact['Phone']}\")"
      ],
      "metadata": {
        "id": "emE9VKlyjAoI"
      },
      "execution_count": 4,
      "outputs": []
    },
    {
      "cell_type": "code",
      "source": [
        "def search_contact():\n",
        "    search_term = input(\"Enter name or phone number to search: \")\n",
        "    found_contacts = [contact for contact in contacts if search_term in (contact['Name'] or contact['Phone'])]\n",
        "    if found_contacts:\n",
        "        print(\"Search Results:\")\n",
        "        for contact in found_contacts:\n",
        "            print(f\"Name: {contact['Name']} | Phone: {contact['Phone']} | Email: {contact['Email']} | Address: {contact['Address']}\")\n",
        "    else:\n",
        "        print(\"No matching contacts found.\")"
      ],
      "metadata": {
        "id": "HKzKfFaOjD_n"
      },
      "execution_count": 5,
      "outputs": []
    },
    {
      "cell_type": "code",
      "source": [
        "def update_contact():\n",
        "    search_term = input(\"Enter name or phone number of contact to update: \")\n",
        "    for contact in contacts:\n",
        "        if search_term in (contact['Name'] or contact['Phone']):\n",
        "            contact['Name'] = input(\"Enter updated name: \")\n",
        "            contact['Phone'] = input(\"Enter updated phone number: \")\n",
        "            contact['Email'] = input(\"Enter updated email: \")\n",
        "            contact['Address'] = input(\"Enter updated address: \")\n",
        "            print(\"Contact updated successfully.\")\n",
        "            return\n",
        "    print(\"Contact not found.\")"
      ],
      "metadata": {
        "id": "MbSC-kCijIGx"
      },
      "execution_count": 6,
      "outputs": []
    },
    {
      "cell_type": "code",
      "source": [
        "def delete_contact():\n",
        "    search_term = input(\"Enter name or phone number of contact to delete: \")\n",
        "    for contact in contacts:\n",
        "        if search_term in (contact['Name'] or contact['Phone']):\n",
        "            contacts.remove(contact)\n",
        "            print(\"Contact deleted successfully.\")\n",
        "            return\n",
        "    print(\"Contact not found.\")"
      ],
      "metadata": {
        "id": "xnN2sSgcjOA8"
      },
      "execution_count": 7,
      "outputs": []
    },
    {
      "cell_type": "code",
      "source": [
        "while True:\n",
        "    print(\"\\nContact Management System\")\n",
        "    print(\"1. Add Contact\")\n",
        "    print(\"2. View Contact List\")\n",
        "    print(\"3. Search Contact\")\n",
        "    print(\"4. Update Contact\")\n",
        "    print(\"5. Delete Contact\")\n",
        "    print(\"6. Exit\")\n",
        "\n",
        "    choice = input(\"Enter your choice: \")\n",
        "\n",
        "    if choice == '1':\n",
        "        add_contact()\n",
        "    elif choice == '2':\n",
        "        view_contacts()\n",
        "    elif choice == '3':\n",
        "        search_contact()\n",
        "    elif choice == '4':\n",
        "        update_contact()\n",
        "    elif choice == '5':\n",
        "        delete_contact()\n",
        "    elif choice == '6':\n",
        "        print(\"Exiting program. Goodbye!\")\n",
        "        break\n",
        "    else:\n",
        "        print(\"Invalid choice. Please try again.\")"
      ],
      "metadata": {
        "colab": {
          "base_uri": "https://localhost:8080/"
        },
        "id": "KXmaTxSIjR3q",
        "outputId": "680bad15-7044-4ecb-b047-864b6ad65243"
      },
      "execution_count": 10,
      "outputs": [
        {
          "output_type": "stream",
          "name": "stdout",
          "text": [
            "\n",
            "Contact Management System\n",
            "1. Add Contact\n",
            "2. View Contact List\n",
            "3. Search Contact\n",
            "4. Update Contact\n",
            "5. Delete Contact\n",
            "6. Exit\n",
            "Enter your choice: 1\n",
            "Enter name: Name\n",
            "Enter phone number: 9876543210\n",
            "Enter email: name@gmail.com\n",
            "Enter address: door_no, street name, Village/Town/City, -Pincode.\n",
            "Contact added successfully!\n",
            "\n",
            "Contact Management System\n",
            "1. Add Contact\n",
            "2. View Contact List\n",
            "3. Search Contact\n",
            "4. Update Contact\n",
            "5. Delete Contact\n",
            "6. Exit\n",
            "Enter your choice: 2\n",
            "Contact List:\n",
            "1. Name: Name | Phone: 9876543210\n",
            "\n",
            "Contact Management System\n",
            "1. Add Contact\n",
            "2. View Contact List\n",
            "3. Search Contact\n",
            "4. Update Contact\n",
            "5. Delete Contact\n",
            "6. Exit\n",
            "Enter your choice: 5\n",
            "Enter name or phone number of contact to delete: 9876543210\n",
            "Contact not found.\n",
            "\n",
            "Contact Management System\n",
            "1. Add Contact\n",
            "2. View Contact List\n",
            "3. Search Contact\n",
            "4. Update Contact\n",
            "5. Delete Contact\n",
            "6. Exit\n",
            "Enter your choice: 5\n",
            "Enter name or phone number of contact to delete: Name\n",
            "Contact deleted successfully.\n",
            "\n",
            "Contact Management System\n",
            "1. Add Contact\n",
            "2. View Contact List\n",
            "3. Search Contact\n",
            "4. Update Contact\n",
            "5. Delete Contact\n",
            "6. Exit\n",
            "Enter your choice: 6\n",
            "Exiting program. Goodbye!\n"
          ]
        }
      ]
    }
  ]
}