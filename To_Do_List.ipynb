{
  "nbformat": 4,
  "nbformat_minor": 0,
  "metadata": {
    "colab": {
      "provenance": [],
      "authorship_tag": "ABX9TyPlx5XrHsuVg4pSlCQ30/xk",
      "include_colab_link": true
    },
    "kernelspec": {
      "name": "python3",
      "display_name": "Python 3"
    },
    "language_info": {
      "name": "python"
    }
  },
  "cells": [
    {
      "cell_type": "markdown",
      "metadata": {
        "id": "view-in-github",
        "colab_type": "text"
      },
      "source": [
        "<a href=\"https://colab.research.google.com/github/dasamnaveen/Codsoft/blob/main/To_Do_List.ipynb\" target=\"_parent\"><img src=\"https://colab.research.google.com/assets/colab-badge.svg\" alt=\"Open In Colab\"/></a>"
      ]
    },
    {
      "cell_type": "code",
      "execution_count": 1,
      "metadata": {
        "id": "-VDHVqiQddis"
      },
      "outputs": [],
      "source": [
        "# To-Do List Application in Python\n",
        "tasks = []"
      ]
    },
    {
      "cell_type": "code",
      "source": [
        "def display_menu():\n",
        "    print(\"To-Do List Application\")\n",
        "    print(\"1. Add Task\")\n",
        "    print(\"2. Update Task\")\n",
        "    print(\"3. View Tasks\")\n",
        "    print(\"4. Exit\")"
      ],
      "metadata": {
        "id": "fN4pbe2Odwo2"
      },
      "execution_count": 2,
      "outputs": []
    },
    {
      "cell_type": "code",
      "source": [
        "def add_task():\n",
        "    task = input(\"Enter task: \")\n",
        "    tasks.append(task)\n",
        "    print(\"Task added successfully!\")"
      ],
      "metadata": {
        "id": "jpHQzY7_d1X8"
      },
      "execution_count": 3,
      "outputs": []
    },
    {
      "cell_type": "code",
      "source": [
        "def update_task():\n",
        "    print(\"Current Tasks:\")\n",
        "    for index, task in enumerate(tasks):\n",
        "        print(f\"{index + 1}. {task}\")\n",
        "\n",
        "    task_index = int(input(\"Enter task number to update: \")) - 1\n",
        "    new_task = input(\"Enter updated task: \")\n",
        "    tasks[task_index] = new_task\n",
        "    print(\"Task updated successfully!\")"
      ],
      "metadata": {
        "id": "LEqTa4aRd4HP"
      },
      "execution_count": 4,
      "outputs": []
    },
    {
      "cell_type": "code",
      "source": [
        "def view_tasks():\n",
        "    print(\"Your Tasks:\")\n",
        "    for index, task in enumerate(tasks):\n",
        "        print(f\"{index + 1}. {task}\")\n",
        "\n",
        "while True:\n",
        "    display_menu()\n",
        "    choice = input(\"Enter your choice: \")\n",
        "\n",
        "    if choice == '1':\n",
        "        add_task()\n",
        "    elif choice == '2':\n",
        "        update_task()\n",
        "    elif choice == '3':\n",
        "        view_tasks()\n",
        "    elif choice == '4':\n",
        "        print(\"Exiting program. Goodbye!\")\n",
        "        break\n",
        "    else:\n",
        "        print(\"Invalid choice. Please try again.\")"
      ],
      "metadata": {
        "colab": {
          "base_uri": "https://localhost:8080/"
        },
        "id": "Zefjfph2d88-",
        "outputId": "40655864-d647-4d36-d802-fe7fb4fb3fa6"
      },
      "execution_count": 5,
      "outputs": [
        {
          "output_type": "stream",
          "name": "stdout",
          "text": [
            "To-Do List Application\n",
            "1. Add Task\n",
            "2. Update Task\n",
            "3. View Tasks\n",
            "4. Exit\n",
            "Enter your choice: 1\n",
            "Enter task: Need to Execute to-do list\n",
            "Task added successfully!\n",
            "To-Do List Application\n",
            "1. Add Task\n",
            "2. Update Task\n",
            "3. View Tasks\n",
            "4. Exit\n",
            "Enter your choice: 1\n",
            "Enter task: upload recorded program in linkedIn.\n",
            "Task added successfully!\n",
            "To-Do List Application\n",
            "1. Add Task\n",
            "2. Update Task\n",
            "3. View Tasks\n",
            "4. Exit\n",
            "Enter your choice: 3\n",
            "Your Tasks:\n",
            "1. Need to Execute to-do list\n",
            "2. upload recorded program in linkedIn.\n",
            "To-Do List Application\n",
            "1. Add Task\n",
            "2. Update Task\n",
            "3. View Tasks\n",
            "4. Exit\n",
            "Enter your choice: 2\n",
            "Current Tasks:\n",
            "1. Need to Execute to-do list\n",
            "2. upload recorded program in linkedIn.\n",
            "Enter task number to update: 2\n",
            "Enter updated task: Upload recorded program in linkedIn.\n",
            "Task updated successfully!\n",
            "To-Do List Application\n",
            "1. Add Task\n",
            "2. Update Task\n",
            "3. View Tasks\n",
            "4. Exit\n",
            "Enter your choice: 4\n",
            "Exiting program. Goodbye!\n"
          ]
        }
      ]
    }
  ]
}